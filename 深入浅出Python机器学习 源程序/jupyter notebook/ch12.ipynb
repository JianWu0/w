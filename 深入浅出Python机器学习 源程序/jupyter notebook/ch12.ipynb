{
 "cells": [
  {
   "cell_type": "code",
   "execution_count": 1,
   "metadata": {},
   "outputs": [
    {
     "name": "stdout",
     "output_type": "stream",
     "text": [
      "(150, 2) (50, 2)\n"
     ]
    }
   ],
   "source": [
    "from sklearn.datasets import make_blobs\n",
    "from sklearn.model_selection import train_test_split\n",
    "from sklearn.preprocessing import StandardScaler\n",
    "from sklearn.neural_network import MLPClassifier\n",
    "import matplotlib.pyplot as plt\n",
    "X, y = make_blobs(n_samples=200, centers=2, cluster_std=5)\n",
    "X_train, X_test, y_train, y_test=train_test_split(X,y,random_state=38)\n",
    "scaler = StandardScaler().fit(X_train)\n",
    "X_train_scaled = scaler.transform(X_train)\n",
    "X_test_scaled = scaler.transform(X_test)\n",
    "print(X_train_scaled.shape, X_test_scaled.shape)"
   ]
  },
  {
   "cell_type": "code",
   "execution_count": 16,
   "metadata": {},
   "outputs": [
    {
     "name": "stdout",
     "output_type": "stream",
     "text": [
      "模型最佳得分：0.83\n",
      "模型最佳参数：{'alpha': 0.0001, 'hidden_layer_sizes': (100,)}\n"
     ]
    }
   ],
   "source": [
    "from sklearn.model_selection import GridSearchCV\n",
    "params = {'hidden_layer_sizes':[(50,),(100,),(100,100)],\n",
    "         'alpha':[0.0001, 0.001, 0.01, 0.1]}\n",
    "grid = GridSearchCV(MLPClassifier(max_iter=1600,\n",
    "                                  random_state=38), param_grid=params, cv=3)\n",
    "grid.fit(X_train_scaled, y_train)\n",
    "print('模型最佳得分：{:.2f}'.format(grid.best_score_))\n",
    "print('模型最佳参数：{}'.format(grid.best_params_))"
   ]
  },
  {
   "cell_type": "code",
   "execution_count": 17,
   "metadata": {},
   "outputs": [
    {
     "name": "stdout",
     "output_type": "stream",
     "text": [
      "测试集得分：0.86\n"
     ]
    }
   ],
   "source": [
    "print('测试集得分：{}'.format(grid.score(X_test_scaled, y_test)))"
   ]
  },
  {
   "cell_type": "code",
   "execution_count": 18,
   "metadata": {},
   "outputs": [
    {
     "name": "stdout",
     "output_type": "stream",
     "text": [
      "使用管道模型的MLP模型评分：0.86\n"
     ]
    }
   ],
   "source": [
    "from sklearn.pipeline import Pipeline\n",
    "pipeline = Pipeline([('scaler',StandardScaler()),\n",
    "                     ('mlp',MLPClassifier(max_iter=1600,random_state=38))])\n",
    "pipeline.fit(X_train, y_train)\n",
    "print('使用管道模型的MLP模型评分：{:.2f}'.format(\n",
    "    pipeline.score(X_test,y_test)))"
   ]
  },
  {
   "cell_type": "code",
   "execution_count": 21,
   "metadata": {},
   "outputs": [
    {
     "name": "stdout",
     "output_type": "stream",
     "text": [
      "交叉验证最高分:0.84\n",
      "模型最优参数：{'mlp__alpha': 0.1, 'mlp__hidden_layer_sizes': (100,)}\n",
      "测试集得分：0.86\n"
     ]
    }
   ],
   "source": [
    "params = {'mlp__hidden_layer_sizes':[(50,),(100,),(100,100)],\n",
    "         'mlp__alpha':[0.0001, 0.001, 0.01, 0.1]}\n",
    "grid = GridSearchCV(pipeline, param_grid=params, cv=3)\n",
    "grid.fit(X_train, y_train)\n",
    "print('交叉验证最高分:{:.2f}'.format(grid.best_score_))\n",
    "print('模型最优参数：{}'.format(grid.best_params_))\n",
    "print('测试集得分：{}'.format(grid.score(X_test,y_test)))"
   ]
  },
  {
   "cell_type": "code",
   "execution_count": 23,
   "metadata": {},
   "outputs": [
    {
     "name": "stdout",
     "output_type": "stream",
     "text": [
      "[('scaler', StandardScaler(copy=True, with_mean=True, with_std=True)), ('mlp', MLPClassifier(activation='relu', alpha=0.0001, batch_size='auto', beta_1=0.9,\n",
      "       beta_2=0.999, early_stopping=False, epsilon=1e-08,\n",
      "       hidden_layer_sizes=(100,), learning_rate='constant',\n",
      "       learning_rate_init=0.001, max_iter=1600, momentum=0.9,\n",
      "       nesterovs_momentum=True, power_t=0.5, random_state=38, shuffle=True,\n",
      "       solver='adam', tol=0.0001, validation_fraction=0.1, verbose=False,\n",
      "       warm_start=False))]\n"
     ]
    }
   ],
   "source": [
    "print(pipeline.steps)"
   ]
  },
  {
   "cell_type": "code",
   "execution_count": 26,
   "metadata": {},
   "outputs": [
    {
     "name": "stdout",
     "output_type": "stream",
     "text": [
      "(3421, 23) (3421,)\n"
     ]
    }
   ],
   "source": [
    "import pandas as pd\n",
    "stocks = pd.read_csv('d:/stock dataset/stock dataset10-20.csv', \n",
    "                     encoding = 'gbk')\n",
    "X = stocks.loc[:,'现价':'流通股(亿)'].values\n",
    "y = stocks['涨幅%%']\n",
    "print (X.shape, y.shape)"
   ]
  },
  {
   "cell_type": "code",
   "execution_count": 32,
   "metadata": {},
   "outputs": [
    {
     "name": "stdout",
     "output_type": "stream",
     "text": [
      "模型平均分：-20060191.16\n"
     ]
    }
   ],
   "source": [
    "from sklearn.model_selection import cross_val_score\n",
    "from sklearn.neural_network import MLPRegressor\n",
    "scores = cross_val_score(MLPRegressor(random_state=38),X,y,cv=3)\n",
    "print ('模型平均分：{:.2f}'.format(scores.mean()))"
   ]
  },
  {
   "cell_type": "code",
   "execution_count": 34,
   "metadata": {},
   "outputs": [
    {
     "name": "stdout",
     "output_type": "stream",
     "text": [
      "[('scaler', StandardScaler(copy=True, with_mean=True, with_std=True)), ('mlp', MLPRegressor(activation='relu', alpha=0.0001, batch_size='auto', beta_1=0.9,\n",
      "       beta_2=0.999, early_stopping=False, epsilon=1e-08,\n",
      "       hidden_layer_sizes=(100,), learning_rate='constant',\n",
      "       learning_rate_init=0.001, max_iter=200, momentum=0.9,\n",
      "       nesterovs_momentum=True, power_t=0.5, random_state=38, shuffle=True,\n",
      "       solver='adam', tol=0.0001, validation_fraction=0.1, verbose=False,\n",
      "       warm_start=False))]\n",
      "\n",
      " [('standardscaler', StandardScaler(copy=True, with_mean=True, with_std=True)), ('mlpregressor', MLPRegressor(activation='relu', alpha=0.0001, batch_size='auto', beta_1=0.9,\n",
      "       beta_2=0.999, early_stopping=False, epsilon=1e-08,\n",
      "       hidden_layer_sizes=(100,), learning_rate='constant',\n",
      "       learning_rate_init=0.001, max_iter=200, momentum=0.9,\n",
      "       nesterovs_momentum=True, power_t=0.5, random_state=38, shuffle=True,\n",
      "       solver='adam', tol=0.0001, validation_fraction=0.1, verbose=False,\n",
      "       warm_start=False))]\n"
     ]
    }
   ],
   "source": [
    "from sklearn.pipeline import make_pipeline\n",
    "pipeline = Pipeline([('scaler',StandardScaler()), \n",
    "                     ('mlp',MLPRegressor(random_state=38))])\n",
    "pipe = make_pipeline(StandardScaler(), MLPRegressor(random_state=38))\n",
    "print(pipeline.steps)\n",
    "print('\\n',pipe.steps)"
   ]
  },
  {
   "cell_type": "code",
   "execution_count": 36,
   "metadata": {},
   "outputs": [
    {
     "name": "stdout",
     "output_type": "stream",
     "text": [
      "模型平均分：0.71\n"
     ]
    }
   ],
   "source": [
    "scores = cross_val_score(pipe,X,y,cv=3)\n",
    "print('模型平均分：{:.2f}'.format(scores.mean()))"
   ]
  },
  {
   "cell_type": "code",
   "execution_count": 39,
   "metadata": {},
   "outputs": [
    {
     "data": {
      "text/plain": [
       "[('standardscaler', StandardScaler(copy=True, with_mean=True, with_std=True)),\n",
       " ('selectfrommodel',\n",
       "  SelectFromModel(estimator=RandomForestRegressor(bootstrap=True, criterion='mse', max_depth=None,\n",
       "             max_features='auto', max_leaf_nodes=None,\n",
       "             min_impurity_decrease=0.0, min_impurity_split=None,\n",
       "             min_samples_leaf=1, min_samples_split=2,\n",
       "             min_weight_fraction_leaf=0.0, n_estimators=10, n_jobs=1,\n",
       "             oob_score=False, random_state=38, verbose=0, warm_start=False),\n",
       "          norm_order=1, prefit=False, threshold=None)),\n",
       " ('mlpregressor',\n",
       "  MLPRegressor(activation='relu', alpha=0.0001, batch_size='auto', beta_1=0.9,\n",
       "         beta_2=0.999, early_stopping=False, epsilon=1e-08,\n",
       "         hidden_layer_sizes=(100,), learning_rate='constant',\n",
       "         learning_rate_init=0.001, max_iter=200, momentum=0.9,\n",
       "         nesterovs_momentum=True, power_t=0.5, random_state=38, shuffle=True,\n",
       "         solver='adam', tol=0.0001, validation_fraction=0.1, verbose=False,\n",
       "         warm_start=False))]"
      ]
     },
     "execution_count": 39,
     "metadata": {},
     "output_type": "execute_result"
    }
   ],
   "source": [
    "from sklearn.feature_selection import SelectFromModel\n",
    "from sklearn.ensemble import RandomForestRegressor\n",
    "pipe = make_pipeline(StandardScaler(),\n",
    "                 SelectFromModel(RandomForestRegressor(random_state=38)),\n",
    "                MLPRegressor(random_state=38))\n",
    "pipe.steps"
   ]
  },
  {
   "cell_type": "code",
   "execution_count": 41,
   "metadata": {},
   "outputs": [
    {
     "name": "stdout",
     "output_type": "stream",
     "text": [
      "管道模型平均分：0.81\n"
     ]
    }
   ],
   "source": [
    "scores = cross_val_score(pipe, X,y, cv=3)\n",
    "print('管道模型平均分：{:.2f}'.format(scores.mean()))"
   ]
  },
  {
   "cell_type": "code",
   "execution_count": 44,
   "metadata": {},
   "outputs": [
    {
     "name": "stdout",
     "output_type": "stream",
     "text": [
      "[False  True False  True False False False False False False False False\n",
      " False  True False  True False False False False False False False]\n"
     ]
    }
   ],
   "source": [
    "pipe.fit(X,y)\n",
    "mask = pipe.named_steps['selectfrommodel'].get_support()\n",
    "print(mask)"
   ]
  },
  {
   "cell_type": "code",
   "execution_count": 47,
   "metadata": {},
   "outputs": [
    {
     "name": "stdout",
     "output_type": "stream",
     "text": [
      "最佳模型是：\n",
      "{'reg': RandomForestRegressor(bootstrap=True, criterion='mse', max_depth=None,\n",
      "           max_features='auto', max_leaf_nodes=None,\n",
      "           min_impurity_decrease=0.0, min_impurity_split=None,\n",
      "           min_samples_leaf=1, min_samples_split=2,\n",
      "           min_weight_fraction_leaf=0.0, n_estimators=10, n_jobs=1,\n",
      "           oob_score=False, random_state=38, verbose=0, warm_start=False), 'scaler': None}\n",
      "\n",
      "模型最佳得分是:0.80\n"
     ]
    }
   ],
   "source": [
    "params = [{'reg':[MLPRegressor(random_state=38)],\n",
    "           'scaler':[StandardScaler(),None]},\n",
    "         {'reg':[RandomForestRegressor(random_state=38)],\n",
    "         'scaler':[None]}]\n",
    "#下面对pipeline进行实例化\n",
    "pipe = Pipeline([('scaler',StandardScaler()),('reg',MLPRegressor())])\n",
    "grid = GridSearchCV(pipe, params, cv=3)\n",
    "grid.fit(X,y)\n",
    "\n",
    "print('最佳模型是：\\n{}'.format(grid.best_params_))\n",
    "print('\\n模型最佳得分是:{:.2f}'.format(grid.best_score_))"
   ]
  },
  {
   "cell_type": "code",
   "execution_count": 51,
   "metadata": {},
   "outputs": [
    {
     "name": "stderr",
     "output_type": "stream",
     "text": [
      "c:\\program files\\python36\\lib\\site-packages\\sklearn\\neural_network\\multilayer_perceptron.py:564: ConvergenceWarning: Stochastic Optimizer: Maximum iterations (200) reached and the optimization hasn't converged yet.\n",
      "  % self.max_iter, ConvergenceWarning)\n"
     ]
    },
    {
     "name": "stdout",
     "output_type": "stream",
     "text": [
      "最佳模型是：\n",
      "{'reg': MLPRegressor(activation='relu', alpha=0.0001, batch_size='auto', beta_1=0.9,\n",
      "       beta_2=0.999, early_stopping=False, epsilon=1e-08,\n",
      "       hidden_layer_sizes=(100, 100), learning_rate='constant',\n",
      "       learning_rate_init=0.001, max_iter=200, momentum=0.9,\n",
      "       nesterovs_momentum=True, power_t=0.5, random_state=38, shuffle=True,\n",
      "       solver='adam', tol=0.0001, validation_fraction=0.1, verbose=False,\n",
      "       warm_start=False), 'reg__hidden_layer_sizes': (100, 100), 'scaler': StandardScaler(copy=True, with_mean=True, with_std=True)}\n",
      "\n",
      "模型最佳得分是:0.88\n"
     ]
    }
   ],
   "source": [
    "params = [{'reg':[MLPRegressor(random_state=38)],\n",
    "          'scaler':[StandardScaler(),None],\n",
    "          'reg__hidden_layer_sizes':[(50,),(100,),(100,100)]},\n",
    "         {'reg':[RandomForestRegressor(random_state=38)],\n",
    "         'scaler':[None],\n",
    "         'reg__n_estimators':[10,50,100]}]\n",
    "pipe = Pipeline([('scaler',StandardScaler()),('reg',MLPRegressor())])\n",
    "grid = GridSearchCV(pipe, params, cv=3)\n",
    "grid.fit(X,y)\n",
    "\n",
    "print('最佳模型是：\\n{}'.format(grid.best_params_))\n",
    "print('\\n模型最佳得分是:{:.2f}'.format(grid.best_score_))"
   ]
  },
  {
   "cell_type": "code",
   "execution_count": 54,
   "metadata": {},
   "outputs": [
    {
     "name": "stdout",
     "output_type": "stream",
     "text": [
      "最佳模型是：\n",
      "{'reg': MLPRegressor(activation='relu', alpha=0.0001, batch_size='auto', beta_1=0.9,\n",
      "       beta_2=0.999, early_stopping=False, epsilon=1e-08,\n",
      "       hidden_layer_sizes=(100, 100), learning_rate='constant',\n",
      "       learning_rate_init=0.001, max_iter=1000, momentum=0.9,\n",
      "       nesterovs_momentum=True, power_t=0.5, random_state=38, shuffle=True,\n",
      "       solver='adam', tol=0.0001, validation_fraction=0.1, verbose=False,\n",
      "       warm_start=False), 'reg__hidden_layer_sizes': (100, 100), 'scaler': StandardScaler(copy=True, with_mean=True, with_std=True)}\n",
      "\n",
      "模型最佳得分是:0.88\n"
     ]
    }
   ],
   "source": [
    "params = [{'reg':[MLPRegressor(random_state=38, max_iter=1000)],\n",
    "          'scaler':[StandardScaler(),None],\n",
    "          'reg__hidden_layer_sizes':[(50,),(100,),(100,100)]},\n",
    "         {'reg':[RandomForestRegressor(random_state=38)],\n",
    "         'scaler':[None],\n",
    "         'reg__n_estimators':[100,500,1000]}]\n",
    "pipe = Pipeline([('scaler',StandardScaler()),('reg',MLPRegressor())])\n",
    "grid = GridSearchCV(pipe, params, cv=3)\n",
    "grid.fit(X,y)\n",
    "\n",
    "print('最佳模型是：\\n{}'.format(grid.best_params_))\n",
    "print('\\n模型最佳得分是:{:.2f}'.format(grid.best_score_))"
   ]
  },
  {
   "cell_type": "code",
   "execution_count": null,
   "metadata": {
    "collapsed": true
   },
   "outputs": [],
   "source": []
  }
 ],
 "metadata": {
  "kernelspec": {
   "display_name": "Python 3",
   "language": "python",
   "name": "python3"
  },
  "language_info": {
   "codemirror_mode": {
    "name": "ipython",
    "version": 3
   },
   "file_extension": ".py",
   "mimetype": "text/x-python",
   "name": "python",
   "nbconvert_exporter": "python",
   "pygments_lexer": "ipython3",
   "version": "3.6.2"
  }
 },
 "nbformat": 4,
 "nbformat_minor": 2
}
