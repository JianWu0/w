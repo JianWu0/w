{
 "cells": [
  {
   "cell_type": "code",
   "execution_count": 1,
   "metadata": {},
   "outputs": [
    {
     "data": {
      "text/html": [
       "<div>\n",
       "<style>\n",
       "    .dataframe thead tr:only-child th {\n",
       "        text-align: right;\n",
       "    }\n",
       "\n",
       "    .dataframe thead th {\n",
       "        text-align: left;\n",
       "    }\n",
       "\n",
       "    .dataframe tbody tr th {\n",
       "        vertical-align: top;\n",
       "    }\n",
       "</style>\n",
       "<table border=\"1\" class=\"dataframe\">\n",
       "  <thead>\n",
       "    <tr style=\"text-align: right;\">\n",
       "      <th></th>\n",
       "      <th>数值特征</th>\n",
       "      <th>类型特征</th>\n",
       "    </tr>\n",
       "  </thead>\n",
       "  <tbody>\n",
       "    <tr>\n",
       "      <th>0</th>\n",
       "      <td>5</td>\n",
       "      <td>西瓜</td>\n",
       "    </tr>\n",
       "    <tr>\n",
       "      <th>1</th>\n",
       "      <td>6</td>\n",
       "      <td>香蕉</td>\n",
       "    </tr>\n",
       "    <tr>\n",
       "      <th>2</th>\n",
       "      <td>7</td>\n",
       "      <td>桔子</td>\n",
       "    </tr>\n",
       "    <tr>\n",
       "      <th>3</th>\n",
       "      <td>8</td>\n",
       "      <td>苹果</td>\n",
       "    </tr>\n",
       "    <tr>\n",
       "      <th>4</th>\n",
       "      <td>9</td>\n",
       "      <td>葡萄</td>\n",
       "    </tr>\n",
       "  </tbody>\n",
       "</table>\n",
       "</div>"
      ],
      "text/plain": [
       "   数值特征 类型特征\n",
       "0     5   西瓜\n",
       "1     6   香蕉\n",
       "2     7   桔子\n",
       "3     8   苹果\n",
       "4     9   葡萄"
      ]
     },
     "metadata": {},
     "output_type": "display_data"
    }
   ],
   "source": [
    "import pandas as pd\n",
    "fruits = pd.DataFrame({'数值特征':[5,6,7,8,9],\n",
    "                   '类型特征':['西瓜','香蕉','桔子','苹果','葡萄']})\n",
    "display(fruits)"
   ]
  },
  {
   "cell_type": "code",
   "execution_count": 2,
   "metadata": {},
   "outputs": [
    {
     "data": {
      "text/html": [
       "<div>\n",
       "<style>\n",
       "    .dataframe thead tr:only-child th {\n",
       "        text-align: right;\n",
       "    }\n",
       "\n",
       "    .dataframe thead th {\n",
       "        text-align: left;\n",
       "    }\n",
       "\n",
       "    .dataframe tbody tr th {\n",
       "        vertical-align: top;\n",
       "    }\n",
       "</style>\n",
       "<table border=\"1\" class=\"dataframe\">\n",
       "  <thead>\n",
       "    <tr style=\"text-align: right;\">\n",
       "      <th></th>\n",
       "      <th>数值特征</th>\n",
       "      <th>类型特征_桔子</th>\n",
       "      <th>类型特征_苹果</th>\n",
       "      <th>类型特征_葡萄</th>\n",
       "      <th>类型特征_西瓜</th>\n",
       "      <th>类型特征_香蕉</th>\n",
       "    </tr>\n",
       "  </thead>\n",
       "  <tbody>\n",
       "    <tr>\n",
       "      <th>0</th>\n",
       "      <td>5</td>\n",
       "      <td>0</td>\n",
       "      <td>0</td>\n",
       "      <td>0</td>\n",
       "      <td>1</td>\n",
       "      <td>0</td>\n",
       "    </tr>\n",
       "    <tr>\n",
       "      <th>1</th>\n",
       "      <td>6</td>\n",
       "      <td>0</td>\n",
       "      <td>0</td>\n",
       "      <td>0</td>\n",
       "      <td>0</td>\n",
       "      <td>1</td>\n",
       "    </tr>\n",
       "    <tr>\n",
       "      <th>2</th>\n",
       "      <td>7</td>\n",
       "      <td>1</td>\n",
       "      <td>0</td>\n",
       "      <td>0</td>\n",
       "      <td>0</td>\n",
       "      <td>0</td>\n",
       "    </tr>\n",
       "    <tr>\n",
       "      <th>3</th>\n",
       "      <td>8</td>\n",
       "      <td>0</td>\n",
       "      <td>1</td>\n",
       "      <td>0</td>\n",
       "      <td>0</td>\n",
       "      <td>0</td>\n",
       "    </tr>\n",
       "    <tr>\n",
       "      <th>4</th>\n",
       "      <td>9</td>\n",
       "      <td>0</td>\n",
       "      <td>0</td>\n",
       "      <td>1</td>\n",
       "      <td>0</td>\n",
       "      <td>0</td>\n",
       "    </tr>\n",
       "  </tbody>\n",
       "</table>\n",
       "</div>"
      ],
      "text/plain": [
       "   数值特征  类型特征_桔子  类型特征_苹果  类型特征_葡萄  类型特征_西瓜  类型特征_香蕉\n",
       "0     5        0        0        0        1        0\n",
       "1     6        0        0        0        0        1\n",
       "2     7        1        0        0        0        0\n",
       "3     8        0        1        0        0        0\n",
       "4     9        0        0        1        0        0"
      ]
     },
     "metadata": {},
     "output_type": "display_data"
    }
   ],
   "source": [
    "fruits_dum = pd.get_dummies(fruits)\n",
    "display(fruits_dum)"
   ]
  },
  {
   "cell_type": "code",
   "execution_count": 3,
   "metadata": {},
   "outputs": [
    {
     "data": {
      "text/html": [
       "<div>\n",
       "<style>\n",
       "    .dataframe thead tr:only-child th {\n",
       "        text-align: right;\n",
       "    }\n",
       "\n",
       "    .dataframe thead th {\n",
       "        text-align: left;\n",
       "    }\n",
       "\n",
       "    .dataframe tbody tr th {\n",
       "        vertical-align: top;\n",
       "    }\n",
       "</style>\n",
       "<table border=\"1\" class=\"dataframe\">\n",
       "  <thead>\n",
       "    <tr style=\"text-align: right;\">\n",
       "      <th></th>\n",
       "      <th>类型特征</th>\n",
       "      <th>数值特征_5</th>\n",
       "      <th>数值特征_6</th>\n",
       "      <th>数值特征_7</th>\n",
       "      <th>数值特征_8</th>\n",
       "      <th>数值特征_9</th>\n",
       "    </tr>\n",
       "  </thead>\n",
       "  <tbody>\n",
       "    <tr>\n",
       "      <th>0</th>\n",
       "      <td>西瓜</td>\n",
       "      <td>1</td>\n",
       "      <td>0</td>\n",
       "      <td>0</td>\n",
       "      <td>0</td>\n",
       "      <td>0</td>\n",
       "    </tr>\n",
       "    <tr>\n",
       "      <th>1</th>\n",
       "      <td>香蕉</td>\n",
       "      <td>0</td>\n",
       "      <td>1</td>\n",
       "      <td>0</td>\n",
       "      <td>0</td>\n",
       "      <td>0</td>\n",
       "    </tr>\n",
       "    <tr>\n",
       "      <th>2</th>\n",
       "      <td>桔子</td>\n",
       "      <td>0</td>\n",
       "      <td>0</td>\n",
       "      <td>1</td>\n",
       "      <td>0</td>\n",
       "      <td>0</td>\n",
       "    </tr>\n",
       "    <tr>\n",
       "      <th>3</th>\n",
       "      <td>苹果</td>\n",
       "      <td>0</td>\n",
       "      <td>0</td>\n",
       "      <td>0</td>\n",
       "      <td>1</td>\n",
       "      <td>0</td>\n",
       "    </tr>\n",
       "    <tr>\n",
       "      <th>4</th>\n",
       "      <td>葡萄</td>\n",
       "      <td>0</td>\n",
       "      <td>0</td>\n",
       "      <td>0</td>\n",
       "      <td>0</td>\n",
       "      <td>1</td>\n",
       "    </tr>\n",
       "  </tbody>\n",
       "</table>\n",
       "</div>"
      ],
      "text/plain": [
       "  类型特征  数值特征_5  数值特征_6  数值特征_7  数值特征_8  数值特征_9\n",
       "0   西瓜       1       0       0       0       0\n",
       "1   香蕉       0       1       0       0       0\n",
       "2   桔子       0       0       1       0       0\n",
       "3   苹果       0       0       0       1       0\n",
       "4   葡萄       0       0       0       0       1"
      ]
     },
     "execution_count": 3,
     "metadata": {},
     "output_type": "execute_result"
    }
   ],
   "source": [
    "fruits['数值特征'] = fruits['数值特征'].astype(str)\n",
    "pd.get_dummies(fruits, columns=['数值特征'])"
   ]
  },
  {
   "cell_type": "code",
   "execution_count": 4,
   "metadata": {},
   "outputs": [
    {
     "data": {
      "image/png": "[encoded data removed]",
      "text/plain": [
       "<matplotlib.figure.Figure at 0x1f5cf207d30>"
      ]
     },
     "metadata": {},
     "output_type": "display_data"
    }
   ],
   "source": [
    "import numpy as np\n",
    "import matplotlib.pyplot as plt\n",
    "rnd = np.random.RandomState(38)\n",
    "x = rnd.uniform(-5,5,size=50)\n",
    "y_no_noise = (np.cos(6*x)+x)\n",
    "X = x.reshape(-1,1)\n",
    "y = (y_no_noise + rnd.normal(size=len(x)))/2\n",
    "plt.plot(X,y,'o',c='r')\n",
    "plt.show()"
   ]
  },
  {
   "cell_type": "code",
   "execution_count": 5,
   "metadata": {},
   "outputs": [
    {
     "data": {
      "image/png": "[encoded data removed]",
      "text/plain": [
       "<matplotlib.figure.Figure at 0x1f5cf9ef4a8>"
      ]
     },
     "metadata": {},
     "output_type": "display_data"
    }
   ],
   "source": [
    "from sklearn.neural_network import MLPRegressor\n",
    "from sklearn.neighbors import KNeighborsRegressor\n",
    "line = np.linspace(-5,5,1000,endpoint=False).reshape(-1,1)\n",
    "mlpr = MLPRegressor().fit(X,y)\n",
    "knr = KNeighborsRegressor().fit(X,y)\n",
    "plt.plot(line, mlpr.predict(line),label='MLP')\n",
    "plt.plot(line, knr.predict(line),label='KNN')\n",
    "plt.plot(X,y,'o',c='r')\n",
    "plt.legend(loc='best')\n",
    "plt.show()"
   ]
  },
  {
   "cell_type": "code",
   "execution_count": 6,
   "metadata": {},
   "outputs": [
    {
     "name": "stdout",
     "output_type": "stream",
     "text": [
      "装箱数据范围：\n",
      "[-5. -4. -3. -2. -1.  0.  1.  2.  3.  4.  5.]\n",
      "\n",
      "前十个数据点的特征值：\n",
      "[[-1.1522688 ]\n",
      " [ 3.59707847]\n",
      " [ 4.44199636]\n",
      " [ 2.02824894]\n",
      " [ 1.33634097]\n",
      " [ 1.05961282]\n",
      " [-2.99873157]\n",
      " [-1.12612112]\n",
      " [-2.41016836]\n",
      " [-4.25392719]]\n",
      "\n",
      "前十个数据点所在的箱子：\n",
      "[[ 4]\n",
      " [ 9]\n",
      " [10]\n",
      " [ 8]\n",
      " [ 7]\n",
      " [ 7]\n",
      " [ 3]\n",
      " [ 4]\n",
      " [ 3]\n",
      " [ 1]]\n"
     ]
    }
   ],
   "source": [
    "bins = np.linspace(-5,5,11)\n",
    "target_bin = np.digitize(X, bins=bins)\n",
    "print('装箱数据范围：\\n{}'.format(bins))\n",
    "print('\\n前十个数据点的特征值：\\n{}'.format(X[:10]))\n",
    "print('\\n前十个数据点所在的箱子：\\n{}'.format(target_bin[:10]))"
   ]
  },
  {
   "cell_type": "code",
   "execution_count": 7,
   "metadata": {},
   "outputs": [
    {
     "name": "stdout",
     "output_type": "stream",
     "text": [
      "装箱后的数据形态：(50, 10)\n",
      "\n",
      "装箱后的前十个数据点：\n",
      "[[ 0.  0.  0.  1.  0.  0.  0.  0.  0.  0.]\n",
      " [ 0.  0.  0.  0.  0.  0.  0.  0.  1.  0.]\n",
      " [ 0.  0.  0.  0.  0.  0.  0.  0.  0.  1.]\n",
      " [ 0.  0.  0.  0.  0.  0.  0.  1.  0.  0.]\n",
      " [ 0.  0.  0.  0.  0.  0.  1.  0.  0.  0.]\n",
      " [ 0.  0.  0.  0.  0.  0.  1.  0.  0.  0.]\n",
      " [ 0.  0.  1.  0.  0.  0.  0.  0.  0.  0.]\n",
      " [ 0.  0.  0.  1.  0.  0.  0.  0.  0.  0.]\n",
      " [ 0.  0.  1.  0.  0.  0.  0.  0.  0.  0.]\n",
      " [ 1.  0.  0.  0.  0.  0.  0.  0.  0.  0.]]\n"
     ]
    }
   ],
   "source": [
    "from sklearn.preprocessing import OneHotEncoder\n",
    "onehot = OneHotEncoder(sparse = False)\n",
    "onehot.fit(target_bin)\n",
    "X_in_bin = onehot.transform(target_bin)\n",
    "print('装箱后的数据形态：{}'.format(X_in_bin.shape))\n",
    "print('\\n装箱后的前十个数据点：\\n{}'.format(X_in_bin[:10]))"
   ]
  },
  {
   "cell_type": "code",
   "execution_count": 8,
   "metadata": {},
   "outputs": [
    {
     "data": {
      "image/png": "[encoded data removed]",
      "text/plain": [
       "<matplotlib.figure.Figure at 0x1f5d0abda20>"
      ]
     },
     "metadata": {},
     "output_type": "display_data"
    }
   ],
   "source": [
    "new_line = onehot.transform(np.digitize(line,bins=bins))\n",
    "\n",
    "new_mlpr = MLPRegressor().fit(X_in_bin, y)\n",
    "new_knr = KNeighborsRegressor().fit(X_in_bin,y)\n",
    "\n",
    "plt.plot(line, new_mlpr.predict(new_line),label='New MLP')\n",
    "plt.plot(line, new_knr.predict(new_line),label='New KNN')\n",
    "\n",
    "plt.plot(X,y,'o',c='r')\n",
    "plt.legend(loc='best')\n",
    "plt.show()"
   ]
  },
  {
   "cell_type": "code",
   "execution_count": 9,
   "metadata": {},
   "outputs": [
    {
     "name": "stdout",
     "output_type": "stream",
     "text": [
      "将数组2添加到数据1中后得到:[1 2 3 4 5 6 7 8 9 0]\n"
     ]
    }
   ],
   "source": [
    "array_1 = [1,2,3,4,5]\n",
    "array_2 = [6,7,8,9,0]\n",
    "array_3 = np.hstack((array_1, array_2))\n",
    "print('将数组2添加到数据1中后得到:{}'.format(array_3))"
   ]
  },
  {
   "cell_type": "code",
   "execution_count": 10,
   "metadata": {},
   "outputs": [
    {
     "data": {
      "text/plain": [
       "(50, 11)"
      ]
     },
     "execution_count": 10,
     "metadata": {},
     "output_type": "execute_result"
    }
   ],
   "source": [
    "X_stack = np.hstack([X, X_in_bin])\n",
    "X_stack.shape"
   ]
  },
  {
   "cell_type": "code",
   "execution_count": 11,
   "metadata": {},
   "outputs": [
    {
     "data": {
      "image/png": "[encoded data removed]",
      "text/plain": [
       "<matplotlib.figure.Figure at 0x1f5cfb3feb8>"
      ]
     },
     "metadata": {},
     "output_type": "display_data"
    }
   ],
   "source": [
    "line_stack = np.hstack([line, new_line])\n",
    "mlpr_interact = MLPRegressor().fit(X_stack, y)\n",
    "plt.plot(line, mlpr_interact.predict(line_stack), \n",
    "         label='MLP for interaction')\n",
    "plt.ylim(-4,4)\n",
    "for vline in bins:\n",
    "    plt.plot([vline,vline],[-5,5],':',c='k')\n",
    "plt.legend(loc='lower right')\n",
    "plt.plot(X, y,'o',c='r')\n",
    "plt.show()"
   ]
  },
  {
   "cell_type": "code",
   "execution_count": 12,
   "metadata": {},
   "outputs": [
    {
     "name": "stdout",
     "output_type": "stream",
     "text": [
      "(50, 20)\n",
      "[ 0.         0.         0.         1.         0.         0.         0.         0.\n",
      "  0.         0.        -0.        -0.        -0.        -1.1522688 -0.        -0.\n",
      " -0.        -0.        -0.        -0.       ]\n"
     ]
    }
   ],
   "source": [
    "X_multi = np.hstack([X_in_bin, X*X_in_bin])\n",
    "print(X_multi.shape)\n",
    "print(X_multi[0])"
   ]
  },
  {
   "cell_type": "code",
   "execution_count": 13,
   "metadata": {},
   "outputs": [
    {
     "data": {
      "image/png": "[encoded data removed]",
      "text/plain": [
       "<matplotlib.figure.Figure at 0x1f5d1b43748>"
      ]
     },
     "metadata": {},
     "output_type": "display_data"
    }
   ],
   "source": [
    "mlpr_multi = MLPRegressor().fit(X_multi, y)\n",
    "line_multi = np.hstack([new_line, line * new_line])\n",
    "plt.plot(line, mlpr_multi.predict(line_multi), label = 'MLP Regressor')\n",
    "for vline in bins:\n",
    "    plt.plot([vline,vline],[-5,5],':',c='gray')\n",
    "plt.plot(X, y, 'o', c='r')\n",
    "plt.legend(loc='lower right')\n",
    "plt.show()"
   ]
  },
  {
   "cell_type": "code",
   "execution_count": 14,
   "metadata": {},
   "outputs": [
    {
     "name": "stdout",
     "output_type": "stream",
     "text": [
      "(50, 20)\n"
     ]
    }
   ],
   "source": [
    "from sklearn.preprocessing import PolynomialFeatures\n",
    "poly = PolynomialFeatures(degree=20, include_bias = False)\n",
    "X_poly = poly.fit_transform(X)\n",
    "print (X_poly.shape)"
   ]
  },
  {
   "cell_type": "code",
   "execution_count": 15,
   "metadata": {},
   "outputs": [
    {
     "name": "stdout",
     "output_type": "stream",
     "text": [
      "原始数据集中的第一个样本特征：\n",
      "[-1.1522688]\n",
      "\n",
      "处理后的数据集中第一个样本特征：\n",
      "[ -1.1522688    1.3277234   -1.52989425   1.76284942  -2.0312764\n",
      "   2.34057643  -2.6969732    3.10763809  -3.58083443   4.1260838\n",
      "  -4.75435765   5.47829801  -6.3124719    7.27366446  -8.38121665\n",
      "   9.65741449 -11.12793745  12.82237519 -14.77482293  17.02456756]\n"
     ]
    }
   ],
   "source": [
    "print('原始数据集中的第一个样本特征：\\n{}'.format(X[0]))\n",
    "print('\\n处理后的数据集中第一个样本特征：\\n{}'.format(X_poly[0]))"
   ]
  },
  {
   "cell_type": "code",
   "execution_count": 16,
   "metadata": {},
   "outputs": [
    {
     "name": "stdout",
     "output_type": "stream",
     "text": [
      "PolynomialFeatures对原始数据的处理:\n",
      "['x0', 'x0^2', 'x0^3', 'x0^4', 'x0^5', 'x0^6', 'x0^7', 'x0^8', 'x0^9', 'x0^10', 'x0^11', 'x0^12', 'x0^13', 'x0^14', 'x0^15', 'x0^16', 'x0^17', 'x0^18', 'x0^19', 'x0^20']\n"
     ]
    }
   ],
   "source": [
    "print ('PolynomialFeatures对原始数据的处理:\\n{}'.format(\n",
    "    poly.get_feature_names()))"
   ]
  },
  {
   "cell_type": "code",
   "execution_count": 17,
   "metadata": {},
   "outputs": [
    {
     "data": {
      "image/png": "[encoded data removed]",
      "text/plain": [
       "<matplotlib.figure.Figure at 0x1f5d1d110f0>"
      ]
     },
     "metadata": {},
     "output_type": "display_data"
    }
   ],
   "source": [
    "from sklearn.linear_model import LinearRegression\n",
    "\n",
    "LNR_poly = LinearRegression().fit(X_poly, y)\n",
    "line_poly = poly.transform(line)\n",
    "\n",
    "plt.plot(line,LNR_poly.predict(line_poly), label='Linear Regressor')\n",
    "plt.xlim(np.min(X)-0.5,np.max(X)+0.5)\n",
    "plt.ylim(np.min(y)-0.5,np.max(y)+0.5)\n",
    "plt.plot(X,y,'o',c='r')\n",
    "plt.legend(loc='lower right')\n",
    "plt.show()"
   ]
  },
  {
   "cell_type": "code",
   "execution_count": 18,
   "metadata": {},
   "outputs": [
    {
     "name": "stdout",
     "output_type": "stream",
     "text": [
      "   代码    名称  涨幅%%     现价    涨跌     买价     卖价      总量    现量  涨速%%   ...    \\\n",
      "0   1  平安银行 -1.65  11.36 -0.19  11.36  11.37  737376  3892 -0.08   ...     \n",
      "1   2  万 科Ａ -0.63  26.93 -0.17  26.93  26.94  329928  2118 -0.06   ...     \n",
      "2   8  神州高铁 -1.32   9.00 -0.12   9.00   9.01   56935  2627 -0.10   ...     \n",
      "3   9  中国宝安  0.91   8.91  0.08   8.91   8.92  163332  1009  0.11   ...     \n",
      "4  11  深物业A  0.20  19.78  0.04  19.78  19.79   38892   646  0.05   ...     \n",
      "\n",
      "         总金额    量比  振幅%%     均价      内盘      外盘   内外比    买量    卖量  流通股(亿)  \n",
      "0  839662720  0.92  2.68  11.39  403288  334087  1.21  1854   912  169.18  \n",
      "1  894966592  0.75  2.84  27.13  168060  161868  1.04  2186   419   97.09  \n",
      "2   51353664  0.59  1.75   9.02   32844   24091  1.36  1119    89   19.89  \n",
      "3  145907936  0.53  1.81   8.93   79827   83505  0.96  1413  1237   21.20  \n",
      "4   76952808  0.56  1.01  19.79   21388   17503  1.22   176   104    1.76  \n",
      "\n",
      "[5 rows x 26 columns]\n"
     ]
    }
   ],
   "source": [
    "import pandas as pd\n",
    "stock = pd.read_csv('d:/stock dataset/071013.csv',encoding='GBK')\n",
    "print(stock.head())"
   ]
  },
  {
   "cell_type": "code",
   "execution_count": 19,
   "metadata": {},
   "outputs": [
    {
     "name": "stdout",
     "output_type": "stream",
     "text": [
      "(2860,)\n",
      "-1.65\n"
     ]
    }
   ],
   "source": [
    "y = stock['涨幅%%']\n",
    "print(y.shape)\n",
    "print(y[0])"
   ]
  },
  {
   "cell_type": "code",
   "execution_count": 20,
   "metadata": {},
   "outputs": [
    {
     "name": "stdout",
     "output_type": "stream",
     "text": [
      "(2860, 23)\n",
      "[[  1.13600000e+01  -1.90000000e-01   1.13600000e+01   1.13700000e+01\n",
      "    7.37376000e+05   3.89200000e+03  -8.00000000e-02   4.40000000e-01\n",
      "    1.15600000e+01   1.15600000e+01   1.12500000e+01   1.15500000e+01\n",
      "    7.77000000e+00   8.39662720e+08   9.20000000e-01   2.68000000e+00\n",
      "    1.13900000e+01   4.03288000e+05   3.34087000e+05   1.21000000e+00\n",
      "    1.85400000e+03   9.12000000e+02   1.69180000e+02]]\n"
     ]
    }
   ],
   "source": [
    "features = stock.loc[:,'现价':'流通股(亿)']\n",
    "X = features.values\n",
    "print(X.shape)\n",
    "print(X[:1])"
   ]
  },
  {
   "cell_type": "code",
   "execution_count": 21,
   "metadata": {},
   "outputs": [
    {
     "name": "stdout",
     "output_type": "stream",
     "text": [
      "模型准确率：0.95\n"
     ]
    }
   ],
   "source": [
    "from sklearn.model_selection import train_test_split\n",
    "from sklearn.preprocessing import StandardScaler\n",
    "mlpr=MLPRegressor(random_state=62, hidden_layer_sizes=(100,100),alpha=0.001)\n",
    "X_train, X_test, y_train, y_test=train_test_split(X,y,random_state=62)\n",
    "scaler = StandardScaler()\n",
    "scaler.fit(X_train)\n",
    "X_train_scaled = scaler.transform(X_train)\n",
    "X_test_scaled = scaler.transform(X_test)\n",
    "mlpr.fit(X_train_scaled, y_train)\n",
    "print('模型准确率：{:.2f}'.format(mlpr.score(X_test_scaled,y_test)))"
   ]
  },
  {
   "cell_type": "code",
   "execution_count": 22,
   "metadata": {},
   "outputs": [
    {
     "name": "stdout",
     "output_type": "stream",
     "text": [
      "779     科林环保\n",
      "1099    长缆科技\n",
      "1265    鸿特精密\n",
      "Name: 名称, dtype: object\n"
     ]
    }
   ],
   "source": [
    "wanted = stock.loc[:,'名称']\n",
    "print(wanted[y>=9])"
   ]
  },
  {
   "cell_type": "code",
   "execution_count": 23,
   "metadata": {},
   "outputs": [
    {
     "name": "stdout",
     "output_type": "stream",
     "text": [
      "经过缩放的特征形态：(2145, 23)\n",
      "特征选择后的特征形态:(2145, 11)\n"
     ]
    }
   ],
   "source": [
    "from sklearn.feature_selection import SelectPercentile\n",
    "select = SelectPercentile(percentile=50)\n",
    "select.fit(X_train_scaled, y_train)\n",
    "X_train_selected = select.transform(X_train_scaled)\n",
    "print('经过缩放的特征形态：{}'.format(X_train_scaled.shape))\n",
    "print('特征选择后的特征形态:{}'.format(X_train_selected.shape))"
   ]
  },
  {
   "cell_type": "code",
   "execution_count": 24,
   "metadata": {},
   "outputs": [
    {
     "name": "stdout",
     "output_type": "stream",
     "text": [
      "[False  True False False  True  True False  True False False False False\n",
      " False  True  True  True False  True  True  True  True False False]\n"
     ]
    }
   ],
   "source": [
    "mask = select.get_support()\n",
    "print(mask)"
   ]
  },
  {
   "cell_type": "code",
   "execution_count": 25,
   "metadata": {},
   "outputs": [
    {
     "data": {
      "image/png": "[encoded data removed]",
      "text/plain": [
       "<matplotlib.figure.Figure at 0x1f5cd121e48>"
      ]
     },
     "metadata": {},
     "output_type": "display_data"
    }
   ],
   "source": [
    "plt.matshow(mask.reshape(1,-1),cmap=plt.cm.cool)\n",
    "plt.xlabel(\"Features Selected\")\n",
    "plt.show()"
   ]
  },
  {
   "cell_type": "code",
   "execution_count": 26,
   "metadata": {},
   "outputs": [
    {
     "name": "stdout",
     "output_type": "stream",
     "text": [
      "特征选择后模型得分：0.87\n"
     ]
    }
   ],
   "source": [
    "X_test_selected = select.transform(X_test_scaled)\n",
    "mlpr_sp=MLPRegressor(random_state=62, hidden_layer_sizes=(100,100),\n",
    "                      alpha=0.001)\n",
    "mlpr_sp.fit(X_train_selected, y_train)\n",
    "print('特征选择后模型得分：{:.2f}'.format(mlpr_sp.score(X_test_selected, \n",
    "                                              y_test)))"
   ]
  },
  {
   "cell_type": "code",
   "execution_count": 29,
   "metadata": {},
   "outputs": [
    {
     "name": "stdout",
     "output_type": "stream",
     "text": [
      "基于随机森林模型进行特征后的数据形态：(2145, 12)\n"
     ]
    }
   ],
   "source": [
    "from sklearn.feature_selection import SelectFromModel\n",
    "from sklearn.ensemble import RandomForestRegressor\n",
    "sfm = SelectFromModel(RandomForestRegressor(n_estimators=100, \n",
    "                                            random_state=38),\n",
    "                     threshold='median')\n",
    "sfm.fit(X_train_scaled, y_train)\n",
    "X_train_sfm = sfm.transform(X_train_scaled)\n",
    "print('基于随机森林模型进行特征后的数据形态：{}'.format(X_train_sfm.shape))"
   ]
  },
  {
   "cell_type": "code",
   "execution_count": 30,
   "metadata": {},
   "outputs": [
    {
     "name": "stdout",
     "output_type": "stream",
     "text": [
      "[False  True False False False False False  True  True  True  True  True\n",
      " False  True  True  True False False False  True False  True  True]\n"
     ]
    }
   ],
   "source": [
    "mask_sfm = sfm.get_support()\n",
    "print(mask_sfm)"
   ]
  },
  {
   "cell_type": "code",
   "execution_count": 31,
   "metadata": {},
   "outputs": [
    {
     "data": {
      "image/png": "[encoded data removed]",
      "text/plain": [
       "<matplotlib.figure.Figure at 0x1f5d1c6cbe0>"
      ]
     },
     "metadata": {},
     "output_type": "display_data"
    }
   ],
   "source": [
    "plt.matshow(mask_sfm.reshape(1,-1),cmap=plt.cm.cool)\n",
    "plt.xlabel('Features Selected')\n",
    "plt.show()"
   ]
  },
  {
   "cell_type": "code",
   "execution_count": 34,
   "metadata": {},
   "outputs": [
    {
     "name": "stdout",
     "output_type": "stream",
     "text": [
      "随机森林进行特征选择后的模型得分：0.97\n"
     ]
    }
   ],
   "source": [
    "X_test_sfm = sfm.transform(X_test_scaled)\n",
    "mlpr_sfm=MLPRegressor(random_state=62, hidden_layer_sizes=(100,100),\n",
    "                      alpha=0.001)\n",
    "mlpr_sfm.fit(X_train_sfm, y_train)\n",
    "print('随机森林进行特征选择后的模型得分：{:.2f}'.format(\n",
    "    mlpr_sfm.score(X_test_sfm, y_test)))"
   ]
  },
  {
   "cell_type": "code",
   "execution_count": 50,
   "metadata": {},
   "outputs": [
    {
     "name": "stdout",
     "output_type": "stream",
     "text": [
      "[ True  True False False  True False False  True  True False  True  True\n",
      " False  True  True  True  True False False  True False False False]\n"
     ]
    }
   ],
   "source": [
    "from sklearn.feature_selection import RFE\n",
    "rfe = RFE(RandomForestRegressor(n_estimators=100,\n",
    "                                 random_state=38),\n",
    "         n_features_to_select=12)\n",
    "rfe.fit(X_train_scaled, y_train)\n",
    "mask = rfe.get_support()\n",
    "print(mask)"
   ]
  },
  {
   "cell_type": "code",
   "execution_count": 51,
   "metadata": {},
   "outputs": [
    {
     "data": {
      "image/png": "[encoded data removed]",
      "text/plain": [
       "<matplotlib.figure.Figure at 0x1f5d21b9588>"
      ]
     },
     "metadata": {},
     "output_type": "display_data"
    }
   ],
   "source": [
    "plt.matshow(mask.reshape(1,-1), cmap=plt.cm.cool)\n",
    "plt.xlabel('Features Selected')\n",
    "plt.show()"
   ]
  },
  {
   "cell_type": "code",
   "execution_count": 54,
   "metadata": {},
   "outputs": [
    {
     "name": "stdout",
     "output_type": "stream",
     "text": [
      "RFE选择特征后的模型得分：0.95\n"
     ]
    }
   ],
   "source": [
    "X_train_rfe = rfe.transform(X_train_scaled)\n",
    "X_test_rfe = rfe.transform(X_test_scaled)\n",
    "mlpr_rfe = MLPRegressor(random_state=62, hidden_layer_sizes=(100,100),\n",
    "                      alpha=0.001)\n",
    "mlpr_rfe.fit(X_train_rfe, y_train)\n",
    "print(\"RFE选择特征后的模型得分：{:.2f}\".format(mlpr_rfe.score(X_test_rfe,\n",
    "                                                  y_test)))"
   ]
  },
  {
   "cell_type": "code",
   "execution_count": 53,
   "metadata": {},
   "outputs": [
    {
     "name": "stdout",
     "output_type": "stream",
     "text": [
      "0.96\n"
     ]
    }
   ],
   "source": [
    "print('{:.2f}'.format(rfe.score(X_test_scaled, y_test)))"
   ]
  },
  {
   "cell_type": "code",
   "execution_count": null,
   "metadata": {
    "collapsed": true
   },
   "outputs": [],
   "source": []
  }
 ],
 "metadata": {
  "kernelspec": {
   "display_name": "Python 3",
   "language": "python",
   "name": "python3"
  },
  "language_info": {
   "codemirror_mode": {
    "name": "ipython",
    "version": 3
   },
   "file_extension": ".py",
   "mimetype": "text/x-python",
   "name": "python",
   "nbconvert_exporter": "python",
   "pygments_lexer": "ipython3",
   "version": "3.6.2"
  }
 },
 "nbformat": 4,
 "nbformat_minor": 2
}
